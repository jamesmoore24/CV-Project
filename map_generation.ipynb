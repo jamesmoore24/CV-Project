{
 "cells": [
  {
   "cell_type": "code",
   "execution_count": 1,
   "metadata": {},
   "outputs": [],
   "source": [
    "import pandas as pd\n",
    "import cv2 as cv\n",
    "from PIL import Image\n",
    "import numpy as np\n",
    "import matplotlib.pyplot as plt\n",
    "import sys\n",
    "import os"
   ]
  },
  {
   "cell_type": "code",
   "execution_count": 10,
   "metadata": {},
   "outputs": [
    {
     "data": {
      "text/plain": [
       "<bound method NDFrame.head of     body_part  c_1   c_2         imgname  size_1  size_2\n",
       "0       ankle  842  1305  IMG0000151.jpg    2304    2880\n",
       "1       ankle  166   280  IMG0000479.jpg     373     454\n",
       "2         hip  216   123  IMG0001191.jpg     373     454\n",
       "3         hip  255    90  IMG0001192.jpg     373     454\n",
       "4       ankle  137    90  IMG0001350.jpg     373     454\n",
       "..        ...  ...   ...             ...     ...     ...\n",
       "184     ankle  197   335  IMG0004266.jpg     373     454\n",
       "185      knee  169    28  IMG0004266.jpg     373     454\n",
       "186     ankle  198   286  IMG0004320.jpg     373     454\n",
       "187       hip  207   128  IMG0004333.jpg     373     454\n",
       "188       hip  199    84  IMG0004334.jpg     373     454\n",
       "\n",
       "[189 rows x 6 columns]>"
      ]
     },
     "execution_count": 10,
     "metadata": {},
     "output_type": "execute_result"
    }
   ],
   "source": [
    "df = pd.read_csv('annotated.csv')\n",
    "df.head"
   ]
  },
  {
   "cell_type": "code",
   "execution_count": 27,
   "metadata": {},
   "outputs": [],
   "source": [
    "img_dims = (373, 454)\n",
    "for _, row in df.iterrows():\n",
    "    img = row['imgname']\n",
    "    try:\n",
    "        filename = f'FracAtlas/images/Fractured/{img}'\n",
    "        image = Image.open(filename)\n",
    "        if _ == 4:\n",
    "            image.show()\n",
    "        image.resize(img_dims)\n",
    "        image.save(f'annotated_images/src/{img}')\n",
    "    except:\n",
    "        filename = f'FracAtlas/images/Non_fractured/{img}'\n",
    "        image = Image.open(filename)\n",
    "        image.resize(img_dims)\n",
    "        image.save(f'annotated_images/src/{img}')"
   ]
  },
  {
   "cell_type": "code",
   "execution_count": 59,
   "metadata": {},
   "outputs": [],
   "source": [
    "cmap = {'ankle': [255,0,0], 'hip': [0,255, 0], 'knee':[0,0,255]} #diff color points for body parts\n",
    "for _, row in df.iterrows():\n",
    "    image_name = row['imgname']\n",
    "    size = row['size_1'] * row['size_2']\n",
    "    eps = int(.01 * size**0.5)\n",
    "    dims = (row['size_1'], row['size_2'])\n",
    "    body_part = row['body_part']\n",
    "    color = cmap[body_part]\n",
    "    image = np.zeros((dims[0], dims[1], 3), dtype = np.uint8)\n",
    "    x = row['c_1']\n",
    "    y = row['c_2']\n",
    "    image[x-eps:x+eps,y-eps:y+eps] = color\n",
    "\n",
    "    image_pil = Image.fromarray(image)\n",
    "    pil_image_resized = image_pil.resize(img_dims)\n",
    "\n",
    "    pil_image_resized.save(f'annotated_images/target/{image_name}')"
   ]
  }
 ],
 "metadata": {
  "kernelspec": {
   "display_name": "Python 3",
   "language": "python",
   "name": "python3"
  },
  "language_info": {
   "codemirror_mode": {
    "name": "ipython",
    "version": 3
   },
   "file_extension": ".py",
   "mimetype": "text/x-python",
   "name": "python",
   "nbconvert_exporter": "python",
   "pygments_lexer": "ipython3",
   "version": "3.11.4"
  }
 },
 "nbformat": 4,
 "nbformat_minor": 2
}
